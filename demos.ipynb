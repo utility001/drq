{
 "cells": [
  {
   "cell_type": "markdown",
   "id": "4bb7bffd-2b94-4618-92f5-0e7436d0cd6d",
   "metadata": {},
   "source": [
    "Build a CLI tool that will print random messages/quotes when run. Kinda like a fortune cookie\n",
    "\n",
    "It will be called `DRQ` aka Daily Random Quotes\n",
    "\n",
    "+ The default behavior is to print random quotes to the screen\n",
    "+ The quotes should be stored in a local txt file"
   ]
  },
  {
   "cell_type": "markdown",
   "id": "4d33a1e8-4d84-4afb-85e9-13eec594ae59",
   "metadata": {},
   "source": [
    "#### The quotes should be sotred in a local txt file"
   ]
  },
  {
   "cell_type": "markdown",
   "id": "adcdc2a1-d097-46f0-96a3-ab7dd6a9f297",
   "metadata": {},
   "source": [
    "You are not special, There's no problem you have that someone has not had, is not currently having and will not have in the future\n",
    "\n",
    "Simple can be harder than complex. You have to work hard to get your thinking clean and make it simple, but its worth it in the end because when you get there, you can move mountains"
   ]
  },
  {
   "cell_type": "markdown",
   "id": "9bd4b495-cb12-43e7-b533-a77874df0b5c",
   "metadata": {},
   "source": [
    "#### Write a class for the quotes"
   ]
  },
  {
   "cell_type": "code",
   "execution_count": 22,
   "id": "fb5dbdbe-3568-4d98-8efe-06166b0f313f",
   "metadata": {},
   "outputs": [],
   "source": [
    "import random\n",
    "\n",
    "FILEPATH = \"quotes.txt\"\n",
    "\n",
    "\n",
    "class QuotesGenerator:\n",
    "    \"\"\"An attempt to build a random quotes generator\"\"\"\n",
    "\n",
    "    def __init__(self):\n",
    "        self.filepath = FILEPATH\n",
    "\n",
    "    def read_quotes(self):\n",
    "        \"\"\"Read quotes from the database\"\"\"\n",
    "        try:\n",
    "            with open(file=self.filepath, mode=\"r\") as file:\n",
    "                quotes = file.readlines()\n",
    "            # Strip extra whitespace characters from each line\n",
    "            quotes = [quote.strip() for quote in quotes if quote.strip()]\n",
    "            return quotes\n",
    "        except FileNotFoundError:\n",
    "            return [\"ERROR: Quotes database not Found. Did you delete it?\"]\n",
    "\n",
    "    def write_quote(self, quote_text):\n",
    "        \"\"\"Write quotes to the database\"\"\"\n",
    "        # open the text file in append mode\n",
    "        with open(file=self.filepath, mode=\"a\") as file:\n",
    "            file.write('\\n\\n' + quote_text)\n",
    "            return \"SUCCESS: Quote written successfully to the Database ✅\"\n",
    "\n",
    "    def get_random_quote(self):\n",
    "        \"\"\"Outputs a random quote\"\"\"\n",
    "        quotes = self.read_quotes()\n",
    "\n",
    "        if quotes:\n",
    "            return random.choice(quotes)\n",
    "        else:\n",
    "            output = \"\"\"There are no quotes available. \\n\n",
    "            Try adding some to the database\"\"\"\n",
    "            return output\n",
    "\n",
    "    def list_all_quotes(self):\n",
    "        \"\"\"Outputs all quotes available in the database\"\"\"\n",
    "        quotes = self.read_quotes()\n",
    "        if quotes:\n",
    "            for idx, quote in enumerate(quotes, start=1):\n",
    "                print(f\"{idx}. {quote}\")\n",
    "        else:\n",
    "            output = \"\"\"There are no quotes available. \\n\n",
    "            Try adding some to the database\"\"\"\n",
    "            return output"
   ]
  },
  {
   "cell_type": "code",
   "execution_count": 23,
   "id": "3d59d35c-842b-4f57-82fd-4da6a67cd4de",
   "metadata": {},
   "outputs": [],
   "source": [
    "q = QuotesGenerator()"
   ]
  },
  {
   "cell_type": "code",
   "execution_count": 24,
   "id": "aaf9735e-b712-4564-b58e-7b678a2b3a1d",
   "metadata": {},
   "outputs": [
    {
     "data": {
      "text/plain": [
       "['You are not special, Theres no problem you have that someone has not had, is not currently having and will not have in the future',\n",
       " 'Simple can be harder than complex. You have to work hard to get your thinking clean and make it simple, but its worth it in the end because when you get there, you can move mountains',\n",
       " 'Action is both the cause and effect motivation. The more you do, The more you realize you can do and the more you want to do.',\n",
       " 'You are guaranteed to fail alot of times if you ever want to succeed',\n",
       " 'This is a demo, Testing, Testing, Testing']"
      ]
     },
     "execution_count": 24,
     "metadata": {},
     "output_type": "execute_result"
    }
   ],
   "source": [
    "q.read_quotes()"
   ]
  },
  {
   "cell_type": "code",
   "execution_count": 25,
   "id": "f628647d-79f7-4e17-af53-93179a90ee7f",
   "metadata": {},
   "outputs": [
    {
     "data": {
      "text/plain": [
       "'SUCCESS: Quote written successfully to the Database ✅'"
      ]
     },
     "execution_count": 25,
     "metadata": {},
     "output_type": "execute_result"
    }
   ],
   "source": [
    "q.write_quote(\"Knowing is not enough, we must apply. Being willing is not enough, we must do\")"
   ]
  },
  {
   "cell_type": "code",
   "execution_count": 26,
   "id": "c894b886-48fc-40ab-b0fd-874252557a03",
   "metadata": {},
   "outputs": [
    {
     "data": {
      "text/plain": [
       "'Simple can be harder than complex. You have to work hard to get your thinking clean and make it simple, but its worth it in the end because when you get there, you can move mountains'"
      ]
     },
     "execution_count": 26,
     "metadata": {},
     "output_type": "execute_result"
    }
   ],
   "source": [
    "q.get_random_quote()"
   ]
  },
  {
   "cell_type": "code",
   "execution_count": 27,
   "id": "3cbd72f9-61e9-4081-984f-2ea7fc0d70ec",
   "metadata": {},
   "outputs": [
    {
     "name": "stdout",
     "output_type": "stream",
     "text": [
      "1. You are not special, Theres no problem you have that someone has not had, is not currently having and will not have in the future\n",
      "2. Simple can be harder than complex. You have to work hard to get your thinking clean and make it simple, but its worth it in the end because when you get there, you can move mountains\n",
      "3. Action is both the cause and effect motivation. The more you do, The more you realize you can do and the more you want to do.\n",
      "4. You are guaranteed to fail alot of times if you ever want to succeed\n",
      "5. Knowing is not enough, we must apply. Being willing is not enough, we must do\n"
     ]
    }
   ],
   "source": [
    "q.list_all_quotes()"
   ]
  },
  {
   "cell_type": "code",
   "execution_count": null,
   "id": "41a71c19-7c5b-4b7f-ac54-2302fcbc74c6",
   "metadata": {},
   "outputs": [],
   "source": []
  },
  {
   "cell_type": "markdown",
   "id": "62abfd21-9732-412c-b8d1-b8c1aa2c62db",
   "metadata": {},
   "source": [
    "### File modes in python"
   ]
  },
  {
   "cell_type": "markdown",
   "id": "9abd6bc5-bf5c-4654-801e-90d75f388bbb",
   "metadata": {},
   "source": [
    "### File Modes in Python:\n",
    "\n",
    "1. **`'r'` (Read Mode):**\n",
    "   - Opens the file for reading.\n",
    "   - The file pointer is placed at the beginning of the file.\n",
    "   - This is the default mode if no mode is specified.\n",
    "   - If the file does not exist, a `FileNotFoundError` is raised.\n",
    "   - Example: `open('file.txt', 'r')`\n",
    "\n",
    "2. **`'w'` (Write Mode):**\n",
    "   - Opens the file for writing.\n",
    "   - If the file already exists, its content is truncated (cleared).\n",
    "   - If the file does not exist, it is created.\n",
    "   - Example: `open('file.txt', 'w')`\n",
    "\n",
    "3. **`'a'` (Append Mode):**\n",
    "   - Opens the file for writing.\n",
    "   - The file pointer is placed at the end of the file, preserving the existing content.\n",
    "   - If the file does not exist, it is created.\n",
    "   - Example: `open('file.txt', 'a')`\n",
    "\n",
    "4. **`'x'` (Exclusive Creation Mode):**\n",
    "   - Opens the file for exclusive creation.\n",
    "   - If the file already exists, a `FileExistsError` is raised.\n",
    "   - If the file does not exist, it is created.\n",
    "   - Example: `open('file.txt', 'x')`\n",
    "\n",
    "5. **`'b'` (Binary Mode):**\n",
    "   - Used in conjunction with other modes to open the file in binary mode.\n",
    "   - Example: `open('file.txt', 'rb')` (read binary), `open('file.txt', 'wb')` (write binary)\n",
    "\n",
    "6. **`'t'` (Text Mode):**\n",
    "   - Used in conjunction with other modes to open the file in text mode.\n",
    "   - This is the default mode if no mode is specified.\n",
    "   - Example: `open('file.txt', 'rt')` (read text), `open('file.txt', 'wt')` (write text)\n",
    "\n",
    "7. **`'+'` (Update Mode):**\n",
    "   - Opens the file for both reading and writing.\n",
    "   - Used in conjunction with other modes.\n",
    "   - Example: `open('file.txt', 'r+')` (read and write), `open('file.txt', 'w+')` (write and read), `open('file.txt', 'a+')` (append and read)\n",
    "\n",
    "### Summary of Common Mode Combinations:\n",
    "\n",
    "- **Read-only:** `'r'`, `'rb'`\n",
    "- **Write-only (truncate):** `'w'`, `'wb'`\n",
    "- **Write-only (append):** `'a'`, `'ab'`\n",
    "- **Read and write (truncate):** `'w+'`, `'wb+'`\n",
    "- **Read and write (append):** `'a+'`, `'ab+'`\n",
    "- **Read and write (no truncate):** `'r+'`, `'rb+'`"
   ]
  },
  {
   "cell_type": "code",
   "execution_count": null,
   "id": "f2b9c597-24d3-45a0-9f8e-ac70098c549d",
   "metadata": {},
   "outputs": [],
   "source": []
  },
  {
   "cell_type": "code",
   "execution_count": null,
   "id": "ca050d98-6356-42c9-a269-8a5ac8de2276",
   "metadata": {},
   "outputs": [],
   "source": []
  },
  {
   "cell_type": "markdown",
   "id": "274f25cd-0a05-46e5-af79-3c1989dc81d7",
   "metadata": {},
   "source": [
    "Idea2. Build a CLI tool that can breakdown a project into managable silos"
   ]
  }
 ],
 "metadata": {
  "kernelspec": {
   "display_name": "jupynoteKernel",
   "language": "python",
   "name": "jupynotekernel"
  },
  "language_info": {
   "codemirror_mode": {
    "name": "ipython",
    "version": 3
   },
   "file_extension": ".py",
   "mimetype": "text/x-python",
   "name": "python",
   "nbconvert_exporter": "python",
   "pygments_lexer": "ipython3",
   "version": "3.10.12"
  },
  "widgets": {
   "application/vnd.jupyter.widget-state+json": {
    "state": {},
    "version_major": 2,
    "version_minor": 0
   }
  }
 },
 "nbformat": 4,
 "nbformat_minor": 5
}
